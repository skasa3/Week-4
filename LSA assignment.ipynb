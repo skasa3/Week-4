{
 "cells": [
  {
   "cell_type": "code",
   "execution_count": null,
   "metadata": {
    "collapsed": false
   },
   "outputs": [
    {
     "name": "stderr",
     "output_type": "stream",
     "text": [
      "WARNING:sklearn.datasets.twenty_newsgroups:Downloading dataset from http://people.csail.mit.edu/jrennie/20Newsgroups/20news-bydate.tar.gz (14 MB)\n"
     ]
    }
   ],
   "source": [
    "from sklearn.datasets import fetch_20newsgroups\n",
    "categories = ['rec.sport.baseball']\n",
    "dataset = fetch_20newsgroups(subset='all',shuffle=True, random_state=42, categories=categories)\n",
    "corpus = dataset.data"
   ]
  },
  {
   "cell_type": "code",
   "execution_count": 6,
   "metadata": {
    "collapsed": true
   },
   "outputs": [],
   "source": [
    "import nltk\n",
    "from nltk.corpus import stopwords\n",
    "from sklearn.feature_extraction.text import TfidfVectorizer\n",
    "from sklearn.decomposition import TruncatedSVD"
   ]
  },
  {
   "cell_type": "code",
   "execution_count": 9,
   "metadata": {
    "collapsed": false
   },
   "outputs": [
    {
     "name": "stdout",
     "output_type": "stream",
     "text": [
      "[nltk_data] Downloading package stopwords to\n",
      "[nltk_data]     C:\\Users\\Suman\\AppData\\Roaming\\nltk_data...\n",
      "[nltk_data]   Unzipping corpora\\stopwords.zip.\n"
     ]
    },
    {
     "data": {
      "text/plain": [
       "True"
      ]
     },
     "execution_count": 9,
     "metadata": {},
     "output_type": "execute_result"
    }
   ],
   "source": [
    "nltk.download('stopwords')"
   ]
  },
  {
   "cell_type": "code",
   "execution_count": 10,
   "metadata": {
    "collapsed": false
   },
   "outputs": [],
   "source": [
    "stopset = set(stopwords.words('english'))"
   ]
  },
  {
   "cell_type": "markdown",
   "metadata": {},
   "source": [
    "Importing data from the news groups"
   ]
  },
  {
   "cell_type": "code",
   "execution_count": 14,
   "metadata": {
    "collapsed": true
   },
   "outputs": [],
   "source": [
    "from sklearn.datasets import fetch_20newsgroups"
   ]
  },
  {
   "cell_type": "code",
   "execution_count": 21,
   "metadata": {
    "collapsed": true
   },
   "outputs": [],
   "source": [
    "newsgroups_train = fetch_20newsgroups(subset='train')"
   ]
  },
  {
   "cell_type": "code",
   "execution_count": 22,
   "metadata": {
    "collapsed": true
   },
   "outputs": [],
   "source": [
    "from pprint import pprint"
   ]
  },
  {
   "cell_type": "code",
   "execution_count": 24,
   "metadata": {
    "collapsed": false
   },
   "outputs": [
    {
     "name": "stdout",
     "output_type": "stream",
     "text": [
      "['alt.atheism',\n",
      " 'comp.graphics',\n",
      " 'comp.os.ms-windows.misc',\n",
      " 'comp.sys.ibm.pc.hardware',\n",
      " 'comp.sys.mac.hardware',\n",
      " 'comp.windows.x',\n",
      " 'misc.forsale',\n",
      " 'rec.autos',\n",
      " 'rec.motorcycles',\n",
      " 'rec.sport.baseball',\n",
      " 'rec.sport.hockey',\n",
      " 'sci.crypt',\n",
      " 'sci.electronics',\n",
      " 'sci.med',\n",
      " 'sci.space',\n",
      " 'soc.religion.christian',\n",
      " 'talk.politics.guns',\n",
      " 'talk.politics.mideast',\n",
      " 'talk.politics.misc',\n",
      " 'talk.religion.misc']\n"
     ]
    }
   ],
   "source": [
    "pprint(list(newsgroups_train.target_names))"
   ]
  },
  {
   "cell_type": "code",
   "execution_count": 25,
   "metadata": {
    "collapsed": true
   },
   "outputs": [],
   "source": [
    "cats = ['rec.sport.baseball']"
   ]
  },
  {
   "cell_type": "code",
   "execution_count": 26,
   "metadata": {
    "collapsed": true
   },
   "outputs": [],
   "source": [
    "newsgroups_train = fetch_20newsgroups(subset='train', categories=cats)"
   ]
  },
  {
   "cell_type": "code",
   "execution_count": 27,
   "metadata": {
    "collapsed": false
   },
   "outputs": [
    {
     "data": {
      "text/plain": [
       "['rec.sport.baseball']"
      ]
     },
     "execution_count": 27,
     "metadata": {},
     "output_type": "execute_result"
    }
   ],
   "source": [
    "list(newsgroups_train.target_names)"
   ]
  },
  {
   "cell_type": "markdown",
   "metadata": {},
   "source": [
    "TF-IDF Vectorizing"
   ]
  },
  {
   "cell_type": "code",
   "execution_count": 28,
   "metadata": {
    "collapsed": true
   },
   "outputs": [],
   "source": [
    "vectorizer=TfidfVectorizer()"
   ]
  },
  {
   "cell_type": "code",
   "execution_count": 29,
   "metadata": {
    "collapsed": true
   },
   "outputs": [],
   "source": [
    "vector = vectorizer.fit_transform(newsgroups_train.data)"
   ]
  },
  {
   "cell_type": "code",
   "execution_count": 30,
   "metadata": {
    "collapsed": false
   },
   "outputs": [
    {
     "data": {
      "text/plain": [
       "<1x10594 sparse matrix of type '<type 'numpy.float64'>'\n",
       "\twith 98 stored elements in Compressed Sparse Row format>"
      ]
     },
     "execution_count": 30,
     "metadata": {},
     "output_type": "execute_result"
    }
   ],
   "source": [
    "vector[0]"
   ]
  },
  {
   "cell_type": "code",
   "execution_count": 31,
   "metadata": {
    "collapsed": false
   },
   "outputs": [
    {
     "name": "stdout",
     "output_type": "stream",
     "text": [
      "  (0, 4920)\t0.118199127106\n",
      "  (0, 8982)\t0.122589356424\n",
      "  (0, 9351)\t0.0924233310277\n",
      "  (0, 4955)\t0.050094823627\n",
      "  (0, 7939)\t0.118199127106\n",
      "  (0, 9685)\t0.103603622207\n",
      "  (0, 4138)\t0.0635701453721\n",
      "  (0, 6952)\t0.105898652773\n",
      "  (0, 3336)\t0.127962562852\n",
      "  (0, 3885)\t0.134889830757\n",
      "  (0, 8376)\t0.101508423455\n",
      "  (0, 7466)\t0.111271859201\n",
      "  (0, 9586)\t0.0564361843927\n",
      "  (0, 3490)\t0.134889830757\n",
      "  (0, 4724)\t0.109812042838\n",
      "  (0, 10571)\t0.0631585183334\n",
      "  (0, 7598)\t0.134889830757\n",
      "  (0, 2637)\t0.0486001446607\n",
      "  (0, 9963)\t0.134889830757\n",
      "  (0, 9002)\t0.0771494828097\n",
      "  (0, 7155)\t0.134889830757\n",
      "  (0, 1693)\t0.0306603883145\n",
      "  (0, 1844)\t0.0466727486463\n",
      "  (0, 7642)\t0.134889830757\n",
      "  (0, 2932)\t0.12512639501\n",
      "  :\t:\n",
      "  (0, 7138)\t0.117741075964\n",
      "  (0, 8475)\t0.073752367246\n",
      "  (0, 5377)\t0.109812042838\n",
      "  (0, 5671)\t0.118199127106\n",
      "  (0, 3882)\t0.118199127106\n",
      "  (0, 201)\t0.0811058338055\n",
      "  (0, 6085)\t0.0243224168929\n",
      "  (0, 4038)\t0.100525446344\n",
      "  (0, 5386)\t0.12512639501\n",
      "  (0, 7080)\t0.143889071515\n",
      "  (0, 3551)\t0.10253324175\n",
      "  (0, 7188)\t0.0243224168929\n",
      "  (0, 1253)\t0.161343970154\n",
      "  (0, 2285)\t0.0806796351505\n",
      "  (0, 1840)\t0.0384679483325\n",
      "  (0, 10396)\t0.129698016953\n",
      "  (0, 6358)\t0.197344511226\n",
      "  (0, 8004)\t0.0303972207181\n",
      "  (0, 9332)\t0.024079595386\n",
      "  (0, 9510)\t0.211797305546\n",
      "  (0, 3434)\t0.145034490942\n",
      "  (0, 3946)\t0.0558251721187\n",
      "  (0, 7535)\t0.0977965374564\n",
      "  (0, 4672)\t0.120294325858\n",
      "  (0, 4563)\t0.048159190772\n"
     ]
    }
   ],
   "source": [
    "print vector[0]"
   ]
  },
  {
   "cell_type": "markdown",
   "metadata": {},
   "source": [
    "LSA"
   ]
  },
  {
   "cell_type": "code",
   "execution_count": 32,
   "metadata": {
    "collapsed": false
   },
   "outputs": [
    {
     "data": {
      "text/plain": [
       "(597, 10594)"
      ]
     },
     "execution_count": 32,
     "metadata": {},
     "output_type": "execute_result"
    }
   ],
   "source": [
    "vector.shape"
   ]
  },
  {
   "cell_type": "code",
   "execution_count": 35,
   "metadata": {
    "collapsed": false
   },
   "outputs": [
    {
     "data": {
      "text/plain": [
       "TruncatedSVD(algorithm='randomized', n_components=25, n_iter=100,\n",
       "       random_state=None, tol=0.0)"
      ]
     },
     "execution_count": 35,
     "metadata": {},
     "output_type": "execute_result"
    }
   ],
   "source": [
    "lsa = TruncatedSVD(n_components=25, n_iter=100)\n",
    "lsa.fit(vector)"
   ]
  },
  {
   "cell_type": "code",
   "execution_count": 36,
   "metadata": {
    "collapsed": false
   },
   "outputs": [
    {
     "data": {
      "text/plain": [
       "array([ 0.01268703,  0.00977263,  0.00084153, ...,  0.00070569,\n",
       "        0.00061109,  0.00099584])"
      ]
     },
     "execution_count": 36,
     "metadata": {},
     "output_type": "execute_result"
    }
   ],
   "source": [
    "lsa.components_[0]"
   ]
  },
  {
   "cell_type": "code",
   "execution_count": 37,
   "metadata": {
    "collapsed": false
   },
   "outputs": [
    {
     "name": "stdout",
     "output_type": "stream",
     "text": [
      "2.7.11 |Anaconda 2.5.0 (64-bit)| (default, Jan 29 2016, 14:26:21) [MSC v.1500 64 bit (AMD64)]\n"
     ]
    }
   ],
   "source": [
    "import sys\n",
    "print (sys.version)"
   ]
  },
  {
   "cell_type": "code",
   "execution_count": 42,
   "metadata": {
    "collapsed": false
   },
   "outputs": [
    {
     "name": "stdout",
     "output_type": "stream",
     "text": [
      "concept 0:\n",
      "the\n",
      " \n",
      "to\n",
      " \n",
      "and\n",
      " \n",
      "in\n",
      " \n",
      "of\n",
      " \n",
      "he\n",
      " \n",
      "is\n",
      " \n",
      "that\n",
      " \n",
      "edu\n",
      " \n",
      "it\n",
      " \n",
      "concept 1:\n",
      "it\n",
      " \n",
      "0.110881918869\n",
      " \n",
      "concept 2:\n",
      "0.0278211276911\n",
      " \n",
      "0.110881918869\n",
      " \n",
      "concept 3:\n",
      "0.110881918869\n",
      " \n",
      "-0.281527605554\n",
      " \n",
      "concept 4:\n",
      "-0.281527605554\n",
      " \n",
      "0.184233602438\n",
      " \n",
      "concept 5:\n",
      "0.184233602438\n",
      " \n",
      "-0.0663865901779\n",
      " \n",
      "concept 6:\n",
      "0.0471055190853\n",
      " \n",
      "-0.0663865901779\n",
      " \n",
      "concept 7:\n",
      "-0.0663865901779\n",
      " \n",
      "-0.00980934195341\n",
      " \n",
      "concept 8:\n",
      "-0.00980934195341\n",
      " \n",
      "-0.103740715575\n",
      " \n",
      "concept 9:\n",
      "-0.0821136946838\n",
      " \n",
      "-0.103740715575\n",
      " \n",
      "concept 10:\n",
      "-0.103740715575\n",
      " \n",
      "0.0100695571796\n",
      " \n",
      "concept 11:\n",
      "-0.15036386117\n",
      " \n",
      "0.0100695571796\n",
      " \n",
      "concept 12:\n",
      "0.0100695571796\n",
      " \n",
      "-0.0293578688527\n",
      " \n",
      "concept 13:\n",
      "-0.300268962146\n",
      " \n",
      "-0.0293578688527\n",
      " \n",
      "concept 14:\n",
      "-0.0293578688527\n",
      " \n",
      "-0.0913499860558\n",
      " \n",
      "concept 15:\n",
      "-0.314622718249\n",
      " \n",
      "-0.0913499860558\n",
      " \n",
      "concept 16:\n",
      "-0.0149714260258\n",
      " \n",
      "-0.0913499860558\n",
      " \n",
      "concept 17:\n",
      "0.0124403792926\n",
      " \n",
      "-0.0913499860558\n",
      " \n",
      "concept 18:\n",
      "0.024235532497\n",
      " \n",
      "-0.0913499860558\n",
      " \n",
      "concept 19:\n",
      "-0.0991395387541\n",
      " \n",
      "-0.0913499860558\n",
      " \n",
      "concept 20:\n",
      "-0.0913499860558\n",
      " \n",
      "-0.102323237122\n",
      " \n",
      "concept 21:\n",
      "-0.102323237122\n",
      " \n",
      "-0.0515532171341\n",
      " \n",
      "concept 22:\n",
      "-0.0515532171341\n",
      " \n",
      "-0.00815771225491\n",
      " \n",
      "concept 23:\n",
      "-0.233802708652\n",
      " \n",
      "-0.00815771225491\n",
      " \n",
      "concept 24:\n",
      "0.0264927070604\n",
      " \n",
      "-0.00815771225491\n",
      " \n"
     ]
    }
   ],
   "source": [
    "terms = vectorizer.get_feature_names()\n",
    "for i, comp in enumerate(lsa.components_):\n",
    "    termsIncomp = zip (terms,comp)\n",
    "    sortedTerms = sorted(termsIncomp, key=lambda x: x[1], reverse=True) [:10]\n",
    "    print \"concept %d:\" % i\n",
    "    for terms in sortedTerms:\n",
    "        print terms[0]\n",
    "        print \" \""
   ]
  },
  {
   "cell_type": "code",
   "execution_count": 43,
   "metadata": {
    "collapsed": false
   },
   "outputs": [
    {
     "data": {
      "text/plain": [
       "array([[  1.26870309e-02,   9.77262516e-03,   8.41526481e-04, ...,\n",
       "          7.05685412e-04,   6.11091456e-04,   9.95836727e-04],\n",
       "       [  4.67885817e-02,   2.78211277e-02,  -1.36675705e-02, ...,\n",
       "         -5.39361053e-04,  -5.33071501e-04,  -7.49634595e-04],\n",
       "       [ -2.81527606e-01,  -1.29029210e-01,   5.56752268e-02, ...,\n",
       "         -3.82865651e-04,   1.22394777e-04,  -1.64652336e-04],\n",
       "       ..., \n",
       "       [  4.12632005e-02,  -2.33802709e-01,  -7.32943059e-02, ...,\n",
       "          6.87481786e-05,   1.50882159e-04,  -2.21166203e-04],\n",
       "       [  2.64927071e-02,   5.13106643e-02,  -3.74499485e-02, ...,\n",
       "         -4.60724126e-04,  -1.83798421e-04,  -1.04392212e-03],\n",
       "       [ -4.53374640e-02,   1.95179357e-02,   8.71890352e-02, ...,\n",
       "         -3.85018480e-04,  -1.14931753e-03,   5.17561708e-04]])"
      ]
     },
     "execution_count": 43,
     "metadata": {},
     "output_type": "execute_result"
    }
   ],
   "source": [
    "lsa.components_"
   ]
  },
  {
   "cell_type": "code",
   "execution_count": null,
   "metadata": {
    "collapsed": true
   },
   "outputs": [],
   "source": []
  }
 ],
 "metadata": {
  "kernelspec": {
   "display_name": "Python 2",
   "language": "python",
   "name": "python2"
  },
  "language_info": {
   "codemirror_mode": {
    "name": "ipython",
    "version": 2
   },
   "file_extension": ".py",
   "mimetype": "text/x-python",
   "name": "python",
   "nbconvert_exporter": "python",
   "pygments_lexer": "ipython2",
   "version": "2.7.11"
  }
 },
 "nbformat": 4,
 "nbformat_minor": 0
}
